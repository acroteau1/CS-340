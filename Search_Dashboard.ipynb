{
 "cells": [
  {
   "cell_type": "code",
   "execution_count": 4,
   "metadata": {
    "scrolled": true
   },
   "outputs": [
    {
     "data": {
      "text/html": [
       "<div>\n",
       "  <iframe src=\"/app/endpoints/3da02564503346609302d2809935f85e/\" width=800 height=600 frameborder=\"0\"></iframe>\n",
       "  <hr/><a href=\"/app/endpoints/3da02564503346609302d2809935f85e/\" target=\"_new\">Open in new window</a> for /app/endpoints/3da02564503346609302d2809935f85e/\n",
       "</div>"
      ],
      "text/plain": [
       "<jupyter_plotly_dash.dash_wrapper.JupyterDash at 0x7f746536ee48>"
      ]
     },
     "execution_count": 4,
     "metadata": {},
     "output_type": "execute_result"
    }
   ],
   "source": [
    "from jupyter_plotly_dash import JupyterDash\n",
    "\n",
    "import dash\n",
    "import dash_leaflet as dl\n",
    "import dash_core_components as dcc\n",
    "import dash_html_components as html\n",
    "import plotly.express as px\n",
    "import dash_table as dt\n",
    "from dash.dependencies import Input, Output, State\n",
    "\n",
    "import os\n",
    "import numpy as np\n",
    "import pandas as pd\n",
    "from pymongo import MongoClient\n",
    "from bson.json_util import dumps\n",
    "import base64\n",
    "\n",
    "# Import the CRUD module\n",
    "from CRUD import AnimalShelter\n",
    "\n",
    "# Authenticate to the AAC database\n",
    "username = \"aacuser\"\n",
    "password = \"userPassword1\"\n",
    "shelter = AnimalShelter(username, password)\n",
    "\n",
    "\n",
    "# Retrieve all data from the database \n",
    "df = pd.DataFrame.from_records(shelter.read_all({}))\n",
    "\n",
    "\n",
    "app = JupyterDash('SimpleExample')\n",
    "\n",
    "# Add in Grazioso Salvare’s logo\n",
    "image_filename = 'Grazioso_Salvare_Logo.png'\n",
    "encoded_image = base64.b64encode(open(image_filename, 'rb').read())\n",
    "\n",
    "# Position logo, dashboard title, and unique identifier\n",
    "app.layout = html.Div([\n",
    "    # Add image with anchor to snhu.edu\n",
    "    html.Center(html.A([html.Img(height='150', width='150', \n",
    "                        src='data:image/png;base64,{}'.format(encoded_image.decode()))],\n",
    "                href='https://www.snhu.edu')),\n",
    "    html.Center(html.B(html.H1('Grazioso Salvare Rescue Animals'))),\n",
    "    html.H6(\"Dashboard Author: Alison Croteau\"),\n",
    "    html.Hr(),\n",
    "    html.Div(\n",
    "        )\n",
    "    ),\n",
    "    html.Hr(),\n",
    "    dt.DataTable(\n",
    "        id='datatable-id',\n",
    "        columns=[\n",
    "            {\"name\": i, \"id\": i, \"deletable\": False, \"selectable\": True} for i in df.columns\n",
    "        ], \n",
    "        style_table={'overflowX':'scroll'},\n",
    "        data=df.to_dict('records'),\n",
    "        # Set up the features for the interactive data table to make it user-friendly for the client\n",
    "        editable=False,\n",
    "        filter_action=\"native\",\n",
    "        sort_action=\"native\",\n",
    "        sort_mode=\"multi\",\n",
    "        column_selectable=False,\n",
    "        row_selectable='multi',\n",
    "        row_deletable=False,\n",
    "        selected_columns=[],\n",
    "        selected_rows=[],\n",
    "        page_action=\"native\",\n",
    "        page_current=0,\n",
    "        page_size=10,   \n",
    "    ),\n",
    "    html.Br(),\n",
    "    html.Hr(),\n",
    "])\n",
    "\n",
    "    \n",
    "@app.callback([Output('datatable-id','data'),\n",
    "               Output('datatable-id','columns')],\n",
    "              [Input('filter-type', 'value')])\n",
    "                \n",
    "    columns=[{\"name\": i, \"id\": i, \"deletable\": False, \"selectable\": True} for i in df.columns[1:]]\n",
    "    data=df.to_dict('records')\n",
    "            \n",
    "    return (data,columns)\n",
    "\n",
    "@app.callback(\n",
    "    Output('datatable-id', 'style_data_conditional'),\n",
    "    [Input('datatable-id', 'selected_columns')])\n",
    "def update_styles(selected_columns):\n",
    "    \"\"\"Update style\"\"\"\n",
    "    return [{\n",
    "        'if': { 'column_id': i },\n",
    "        'background_color': '#D2F3FF'\n",
    "    } for i in selected_columns]\n",
    "\n",
    "\n",
    "\n",
    "\n",
    "app"
   ]
  },
  {
   "cell_type": "code",
   "execution_count": null,
   "metadata": {},
   "outputs": [],
   "source": []
  },
  {
   "cell_type": "code",
   "execution_count": null,
   "metadata": {},
   "outputs": [],
   "source": []
  },
  {
   "cell_type": "code",
   "execution_count": null,
   "metadata": {},
   "outputs": [],
   "source": []
  }
 ],
 "metadata": {
  "kernelspec": {
   "display_name": "Python 3",
   "language": "python",
   "name": "python3"
  },
  "language_info": {
   "codemirror_mode": {
    "name": "ipython",
    "version": 3
   },
   "file_extension": ".py",
   "mimetype": "text/x-python",
   "name": "python",
   "nbconvert_exporter": "python",
   "pygments_lexer": "ipython3",
   "version": "3.6.9"
  }
 },
 "nbformat": 4,
 "nbformat_minor": 2
}
